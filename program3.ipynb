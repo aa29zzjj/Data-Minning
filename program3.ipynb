import pandas as pd
import numpy as np
from sklearn.decomposition import PCA


def normalize(X, axis=-1, p=2):
    lp_norm = np.atleast_1d(np.linalg.norm(X, p, axis))
    lp_norm[lp_norm == 0] = 1
    return X / np.expand_dims(lp_norm, axis)


def euclidean_distance(one_sample, X):
    one_sample = one_sample.reshape(1, -1)
    X = X.reshape(X.shape[0], -1)
    distances = np.power(np.tile(one_sample, (X.shape[0], 1)) - X, 2).sum(axis=1)
    return distances



class Kmeans():
    def __init__(self, k=2, max_iterations=500, varepsilon=0.0001):
        self.k = k
        self.max_iterations = max_iterations
        self.varepsilon = varepsilon

    def init_random_centroids(self, X):
        n_samples, n_features = np.shape(X)
        centroids = np.zeros((self.k, n_features))
        for i in range(self.k):
            centroid = X[np.random.choice(range(n_samples))]
            centroids[i] = centroid
        return centroids

    def _closest_centroid(self, sample, centroids):
        distances = euclidean_distance(sample, centroids)
        closest_i = np.argmin(distances)
        return closest_i

    def create_clusters(self, centroids, X):
        n_samples = np.shape(X)[0]
        clusters = [[] for _ in range(self.k)]
        for sample_i, sample in enumerate(X):
            centroid_i = self._closest_centroid(sample, centroids)
            clusters[centroid_i].append(sample_i)
        return clusters

    def update_centroids(self, clusters, X):
        n_features = np.shape(X)[1]
        centroids = np.zeros((self.k, n_features))
        for i, cluster in enumerate(clusters):
            centroid = np.mean(X[cluster], axis=0)
            centroids[i] = centroid
        return centroids

    def get_cluster_labels(self, clusters, X):
        y_pred = np.zeros(np.shape(X)[0])
        for cluster_i, cluster in enumerate(clusters):
            for sample_i in cluster:
                y_pred[sample_i] = cluster_i
        return y_pred

    def predict(self, X):
        centroids = self.init_random_centroids(X)

        for _ in range(self.max_iterations):
            clusters = self.create_clusters(centroids, X)
            former_centroids = centroids

            centroids = self.update_centroids(clusters, X)

            diff = centroids - former_centroids
            if diff.any() < self.varepsilon:
                break

        return self.get_cluster_labels(clusters, X)

    def kmeans(data,k=5): 
         # step 1: 
        centroids = init_random_centroids(data,k) 
        converge = False 
        while not converge: 
            old_centroids = np.copy(centroids) 
            # step 2 & 3; labels can be an array of labels for all the data points 
            centroids, label = update_centroids(data, old_centroids) 
            # step 4 
            converge = converged(old_centroids, centroids) 
        print(">>> final centroids") 
        print(centroids) 
        return centroids, label 

data_list = []
data = pd.read_csv('bank_marketing.csv')

for row, i in data.iterrows():

    temp = str(i).split(';')
    data_list.append([temp[1],temp[11],temp[12],temp[13],temp[14],temp[16],temp[17],temp[18],temp[19],temp[20]])



pca=PCA(n_components=3)

pca.fit(data_list)
X_train_reduction=pca.transform(data_list)


#discuss1
num = 20

for x in range(num):
    kmeans(datalist, k =5)pca=PCA(n_components=3)
    pca.fit(data_list)
    X_train_reduction=pca.transform(data_list)
    print(kmeans(datalist, k =5))

#discuss4
#5
for x in range(num):
    kmeans(datalist, k =5)pca=PCA(n_components=3)
    pca.fit(data_list)
    X_train_reduction=pca.transform(data_list)
    print(kmeans(datalist, k =5))
#10
 for x in range(num):
    kmeans(datalist, k =5)pca=PCA(n_components=3)
    pca.fit(data_list)
    X_train_reduction=pca.transform(data_list)
    print(kmeans(datalist, k =10))
#15
for x in range(num):
    kmeans(datalist, k =5)pca=PCA(n_components=3)
    pca.fit(data_list)
    X_train_reduction=pca.transform(data_list)
    print(kmeans(datalist, k =15))
#20
for x in range(num):
    kmeans(datalist, k =5)pca=PCA(n_components=3)
    pca.fit(data_list)
    X_train_reduction=pca.transform(data_list)
    print(kmeans(datalist, k =20))
#25
for x in range(num):
    kmeans(datalist, k =5)pca=PCA(n_components=3)
    pca.fit(data_list)
    X_train_reduction=pca.transform(data_list)
    print(kmeans(datalist, k =25))